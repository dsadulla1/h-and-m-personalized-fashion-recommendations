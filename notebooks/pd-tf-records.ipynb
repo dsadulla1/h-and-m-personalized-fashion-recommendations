{
 "cells": [
  {
   "cell_type": "code",
   "execution_count": null,
   "metadata": {},
   "outputs": [],
   "source": [
    "import pandas as pd\n",
    "from pandas_tfrecords import pd2tf, tf2pd\n",
    "\n",
    "df = pd.DataFrame({'A': [1, 2, 3], 'B': ['a', 'b', 'c'], 'C': [[1, 2], [3, 4], [5, 6]]})\n",
    "\n",
    "# local\n",
    "pd2tf(df, './tfrecords')\n",
    "my_df = tf2pd('./tfrecords')"
   ]
  }
 ],
 "metadata": {
  "interpreter": {
   "hash": "7ad3a897d5c84f3b1e395a9948f7cfc2ef0154bd741c36d63bcefaaa10a96ed2"
  },
  "kernelspec": {
   "display_name": "Python 3.9.12 ('Dev')",
   "language": "python",
   "name": "python3"
  },
  "language_info": {
   "name": "python",
   "version": "3.9.12"
  },
  "orig_nbformat": 4
 },
 "nbformat": 4,
 "nbformat_minor": 2
}
